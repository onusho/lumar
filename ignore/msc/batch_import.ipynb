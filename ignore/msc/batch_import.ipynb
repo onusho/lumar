{
 "cells": [
  {
   "cell_type": "code",
   "execution_count": 1,
   "metadata": {},
   "outputs": [],
   "source": [
    "import weaviate\n"
   ]
  },
  {
   "cell_type": "code",
   "execution_count": null,
   "metadata": {},
   "outputs": [],
   "source": [
    "client = weaviate.connect_to_local()\n",
    "meta_info = client.get_meta()\n",
    "print(meta_info)\n"
   ]
  },
  {
   "cell_type": "code",
   "execution_count": null,
   "metadata": {},
   "outputs": [],
   "source": [
    "data_rows = [\n",
    "    {\"title\": f\"Object {i+1}\"} for i in range(5)\n",
    "]\n",
    "\n",
    "collection = client.collections.get(\"MyCollection\")\n",
    "\n",
    "with collection.batch.dynamic() as batch:\n",
    "    for data_row in data_rows:\n",
    "        batch.add_object(\n",
    "            properties=data_row,\n",
    "        )"
   ]
  },
  {
   "cell_type": "code",
   "execution_count": 2,
   "metadata": {},
   "outputs": [],
   "source": [
    "import requests, json\n",
    "\n",
    "response = requests.get(\n",
    "    \"https://raw.githubusercontent.com/weaviate-tutorials/intro-workshop/main/data/jeopardy_1k.json\"\n",
    ")\n",
    "\n",
    "data = response.json()\n",
    "with open('jeopardy_1k.json', 'w') as f:\n",
    "    json.dump(data, f)"
   ]
  },
  {
   "cell_type": "code",
   "execution_count": null,
   "metadata": {},
   "outputs": [],
   "source": [
    "import ijson\n",
    "\n",
    "# Settings for displaying the import progress\n",
    "counter = 0\n",
    "interval = 100  # print progress every this many records; should be bigger than the batch_size\n",
    "\n",
    "print(\"JSON streaming, to avoid running out of memory on large files...\")\n",
    "with client.batch.fixed_size(batch_size=200) as batch:\n",
    "    with open(\"jeopardy_1k.json\", \"rb\") as f:\n",
    "        objects = ijson.items(f, \"item\")\n",
    "        for obj in objects:\n",
    "            properties = {\n",
    "                \"question\": obj[\"Question\"],\n",
    "                \"answer\": obj[\"Answer\"],\n",
    "            }\n",
    "            batch.add_object(\n",
    "                collection=\"JeopardyQuestion\",\n",
    "                properties=properties,\n",
    "                # If you Bring Your Own Vectors, add the `vector` parameter here\n",
    "                # vector=obj.vector[\"default\"]\n",
    "            )\n",
    "\n",
    "            # Calculate and display progress\n",
    "            counter += 1\n",
    "            if counter % interval == 0:\n",
    "                print(f\"Imported {counter} articles...\")\n",
    "\n",
    "\n",
    "print(f\"Finished importing {counter} articles.\")"
   ]
  },
  {
   "cell_type": "code",
   "execution_count": null,
   "metadata": {},
   "outputs": [],
   "source": [
    "import pandas as pd\n",
    "\n",
    "# Settings for displaying the import progress\n",
    "counter = 0\n",
    "interval = 100  # print progress every this many records; should be bigger than the batch_size\n",
    "\n",
    "def add_object(obj) -> None:\n",
    "    global counter\n",
    "    properties = {\n",
    "        \"question\": obj[\"Question\"],\n",
    "        \"answer\": obj[\"Answer\"],\n",
    "    }\n",
    "\n",
    "    with client.batch.fixed_size(batch_size=200) as batch:\n",
    "        batch.add_object(\n",
    "            collection=\"JeopardyQuestion\",\n",
    "            properties=properties,\n",
    "            # If you Bring Your Own Vectors, add the `vector` parameter here\n",
    "            # vector=obj.vector[\"default\"]\n",
    "        )\n",
    "\n",
    "        # Calculate and display progress\n",
    "        counter += 1\n",
    "        if counter % interval == 0:\n",
    "            print(f\"Imported {counter} articles...\")\n",
    "\n",
    "\n",
    "print(\"pandas dataframe iterator with lazy-loading, to not load all records in RAM at once...\")\n",
    "with client.batch.fixed_size(batch_size=200) as batch:\n",
    "    with pd.read_csv(\n",
    "        \"jeopardy_1k.csv\",\n",
    "        usecols=[\"Question\", \"Answer\", \"Category\"],\n",
    "        chunksize=100,  # number of rows per chunk\n",
    "    ) as csv_iterator:\n",
    "        # Iterate through the dataframe chunks and add each CSV record to the batch\n",
    "        for chunk in csv_iterator:\n",
    "            for index, row in chunk.iterrows():\n",
    "                properties = {\n",
    "                    \"question\": row[\"Question\"],\n",
    "                    \"answer\": row[\"Answer\"],\n",
    "                }\n",
    "                batch.add_object(\n",
    "                    collection=\"JeopardyQuestion\",\n",
    "                    properties=properties,\n",
    "                    # If you Bring Your Own Vectors, add the `vector` parameter here\n",
    "                    # vector=obj.vector[\"default\"]\n",
    "                )\n",
    "\n",
    "        # Calculate and display progress\n",
    "        counter += 1\n",
    "        if counter % interval == 0:\n",
    "            print(f\"Imported {counter} articles...\")\n",
    "\n",
    "print(f\"Finished importing {counter} articles.\")"
   ]
  }
 ],
 "metadata": {
  "kernelspec": {
   "display_name": "env",
   "language": "python",
   "name": "python3"
  },
  "language_info": {
   "codemirror_mode": {
    "name": "ipython",
    "version": 3
   },
   "file_extension": ".py",
   "mimetype": "text/x-python",
   "name": "python",
   "nbconvert_exporter": "python",
   "pygments_lexer": "ipython3",
   "version": "3.11.8"
  }
 },
 "nbformat": 4,
 "nbformat_minor": 2
}
