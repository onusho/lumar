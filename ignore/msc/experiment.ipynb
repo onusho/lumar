{
 "cells": [
  {
   "cell_type": "code",
   "execution_count": 151,
   "metadata": {},
   "outputs": [
    {
     "name": "stdout",
     "output_type": "stream",
     "text": [
      "{'hostname': 'http://[::]:8080', 'modules': {'generative-ollama': {'documentationHref': 'https://github.com/ollama/ollama/blob/main/docs/api.md#generate-a-completion', 'name': 'Generative Search - Ollama'}, 'text2vec-ollama': {'documentationHref': 'https://github.com/ollama/ollama/blob/main/docs/api.md#generate-embeddings', 'name': 'Ollama Module'}}, 'version': '1.26.1'}\n"
     ]
    }
   ],
   "source": [
    "import weaviate\n",
    "\n",
    "client = weaviate.connect_to_local()\n",
    "meta_info = client.get_meta()\n",
    "print(meta_info)\n"
   ]
  },
  {
   "cell_type": "code",
   "execution_count": 204,
   "metadata": {},
   "outputs": [
    {
     "name": "stdout",
     "output_type": "stream",
     "text": [
      "\u001b[1;31mInit signature:\u001b[0m\n",
      "\u001b[0mDataType\u001b[0m\u001b[1;33m(\u001b[0m\u001b[1;33m\n",
      "\u001b[0m    \u001b[0mvalue\u001b[0m\u001b[1;33m,\u001b[0m\u001b[1;33m\n",
      "\u001b[0m    \u001b[0mnames\u001b[0m\u001b[1;33m=\u001b[0m\u001b[1;32mNone\u001b[0m\u001b[1;33m,\u001b[0m\u001b[1;33m\n",
      "\u001b[0m    \u001b[1;33m*\u001b[0m\u001b[1;33m,\u001b[0m\u001b[1;33m\n",
      "\u001b[0m    \u001b[0mmodule\u001b[0m\u001b[1;33m=\u001b[0m\u001b[1;32mNone\u001b[0m\u001b[1;33m,\u001b[0m\u001b[1;33m\n",
      "\u001b[0m    \u001b[0mqualname\u001b[0m\u001b[1;33m=\u001b[0m\u001b[1;32mNone\u001b[0m\u001b[1;33m,\u001b[0m\u001b[1;33m\n",
      "\u001b[0m    \u001b[0mtype\u001b[0m\u001b[1;33m=\u001b[0m\u001b[1;32mNone\u001b[0m\u001b[1;33m,\u001b[0m\u001b[1;33m\n",
      "\u001b[0m    \u001b[0mstart\u001b[0m\u001b[1;33m=\u001b[0m\u001b[1;36m1\u001b[0m\u001b[1;33m,\u001b[0m\u001b[1;33m\n",
      "\u001b[0m    \u001b[0mboundary\u001b[0m\u001b[1;33m=\u001b[0m\u001b[1;32mNone\u001b[0m\u001b[1;33m,\u001b[0m\u001b[1;33m\n",
      "\u001b[0m\u001b[1;33m)\u001b[0m\u001b[1;33m\u001b[0m\u001b[1;33m\u001b[0m\u001b[0m\n",
      "\u001b[1;31mDocstring:\u001b[0m     \n",
      "The available primitive data types in Weaviate.\n",
      "\n",
      "Attributes:\n",
      "    TEXT: Text data type.\n",
      "    TEXT_ARRAY: Text array data type.\n",
      "    INT: Integer data type.\n",
      "    INT_ARRAY: Integer array data type.\n",
      "    BOOL: Boolean data type.\n",
      "    BOOL_ARRAY: Boolean array data type.\n",
      "    NUMBER: Number data type.\n",
      "    NUMBER_ARRAY: Number array data type.\n",
      "    DATE: Date data type.\n",
      "    DATE_ARRAY: Date array data type.\n",
      "    UUID: UUID data type.\n",
      "    UUID_ARRAY: UUID array data type.\n",
      "    GEO_COORDINATES: Geo coordinates data type.\n",
      "    BLOB: Blob data type.\n",
      "    PHONE_NUMBER: Phone number data type.\n",
      "    OBJECT: Object data type.\n",
      "    OBJECT_ARRAY: Object array data type.\n",
      "\u001b[1;31mFile:\u001b[0m           c:\\users\\anush\\desktop\\wev-rag\\env\\lib\\site-packages\\weaviate\\collections\\classes\\config.py\n",
      "\u001b[1;31mType:\u001b[0m           EnumType\n",
      "\u001b[1;31mSubclasses:\u001b[0m     "
     ]
    }
   ],
   "source": [
    "from weaviate.classes.config import Property, DataType\n",
    "DataType?"
   ]
  },
  {
   "cell_type": "code",
   "execution_count": 169,
   "metadata": {},
   "outputs": [],
   "source": [
    "import json\n",
    "\n",
    "data = json.loads(\"\"\"[{\"Category\":\"SCIENCE\",\"Question\":\"This organ removes excess glucose from the blood & stores it as glycogen\",\"Answer\":\"Liver\"},{\"Category\":\"ANIMALS\",\"Question\":\"It's the only living mammal in the order Proboseidea\",\"Answer\":\"Elephant\"},{\"Category\":\"ANIMALS\",\"Question\":\"The gavial looks very much like a crocodile except for this bodily feature\",\"Answer\":\"the nose or snout\"},{\"Category\":\"ANIMALS\",\"Question\":\"Weighing around a ton, the eland is the largest species of this animal in Africa\",\"Answer\":\"Antelope\"},{\"Category\":\"ANIMALS\",\"Question\":\"Heaviest of all poisonous snakes is this North American rattlesnake\",\"Answer\":\"the diamondback rattler\"},{\"Category\":\"SCIENCE\",\"Question\":\"2000 news: the Gunnison sage grouse isn't just another northern sage grouse, but a new one of this classification\",\"Answer\":\"species\"},{\"Category\":\"SCIENCE\",\"Question\":\"A metal that is ductile can be pulled into this while cold & under pressure\",\"Answer\":\"wire\"},{\"Category\":\"SCIENCE\",\"Question\":\"In 1953 Watson & Crick built a model of the molecular structure of this, the gene-carrying substance\",\"Answer\":\"DNA\"},{\"Category\":\"SCIENCE\",\"Question\":\"Changes in the tropospheric layer of this are what gives us weather\",\"Answer\":\"the atmosphere\"},{\"Category\":\"SCIENCE\",\"Question\":\"In 70-degree air, a plane traveling at about 1,130 feet per second breaks it\",\"Answer\":\"Sound barrier\"}]\"\"\")  # Load data\n"
   ]
  },
  {
   "cell_type": "code",
   "execution_count": 170,
   "metadata": {},
   "outputs": [
    {
     "data": {
      "text/plain": [
       "<weaviate.collections.collection.sync.Collection object at 0x00000256686AF4D0>"
      ]
     },
     "execution_count": 170,
     "metadata": {},
     "output_type": "execute_result"
    }
   ],
   "source": [
    "from weaviate.classes.config import Configure\n",
    "client.collections.create(\n",
    "    \"DemoCollection\",\n",
    "    vectorizer_config=Configure.Vectorizer.text2vec_ollama(\n",
    "            api_endpoint=\"http://host.docker.internal:11434\",  # If using Docker, use this to contact your local Ollama instance\n",
    "            model=\"all-minilm\",  # The model to use, e.g. \"nomic-embed-text\"\n",
    "        ),\n",
    "    generative_config=Configure.Generative.ollama(\n",
    "        api_endpoint=\"http://host.docker.internal:11434\",  # If using Docker, use this to contact your local Ollama instance\n",
    "        model=\"tinyllama\"  # The model to use, e.g. \"phi3\", or \"mistral\", \"command-r-plus\", \"gemma\"\n",
    "    )\n",
    ")"
   ]
  },
  {
   "cell_type": "code",
   "execution_count": 171,
   "metadata": {},
   "outputs": [],
   "source": [
    "collection = client.collections.get(\"DemoCollection\")"
   ]
  },
  {
   "cell_type": "code",
   "execution_count": 172,
   "metadata": {},
   "outputs": [],
   "source": [
    "question_objs = list()\n",
    "for i, d in enumerate(data):\n",
    "    question_objs.append({\n",
    "        \"answer\": d[\"Answer\"],\n",
    "        \"question\": d[\"Question\"],\n",
    "        \"category\": d[\"Category\"],\n",
    "    })\n",
    "\n"
   ]
  },
  {
   "cell_type": "code",
   "execution_count": 173,
   "metadata": {},
   "outputs": [
    {
     "data": {
      "text/plain": [
       "BatchObjectReturn(_all_responses=[UUID('3a40a3e3-b194-4c75-814e-78bfe2b0702a'), UUID('bbf57b7e-614e-487f-b055-b94136f6e263'), UUID('8a467142-c03c-479e-8d7a-4e809211f74f'), UUID('4009684d-6cc8-4daa-ab19-23ed9b819f96'), UUID('4aa9b47a-cc79-465b-a476-6e735a1d07a5'), UUID('8bc19039-9c3a-4f7b-812a-7679f180d485'), UUID('a165e43b-26b5-463b-a4ed-fc8e5e999a56'), UUID('7864c000-0c3b-4398-af4f-fac3a8a00f93'), UUID('39aff3c9-b0c4-4488-8542-d1a5275de0f6'), UUID('2c58b627-3886-4d0c-a5fc-411ee87e3318')], elapsed_seconds=1.8515081405639648, errors={}, uuids={0: UUID('3a40a3e3-b194-4c75-814e-78bfe2b0702a'), 1: UUID('bbf57b7e-614e-487f-b055-b94136f6e263'), 2: UUID('8a467142-c03c-479e-8d7a-4e809211f74f'), 3: UUID('4009684d-6cc8-4daa-ab19-23ed9b819f96'), 4: UUID('4aa9b47a-cc79-465b-a476-6e735a1d07a5'), 5: UUID('8bc19039-9c3a-4f7b-812a-7679f180d485'), 6: UUID('a165e43b-26b5-463b-a4ed-fc8e5e999a56'), 7: UUID('7864c000-0c3b-4398-af4f-fac3a8a00f93'), 8: UUID('39aff3c9-b0c4-4488-8542-d1a5275de0f6'), 9: UUID('2c58b627-3886-4d0c-a5fc-411ee87e3318')}, has_errors=False)"
      ]
     },
     "execution_count": 173,
     "metadata": {},
     "output_type": "execute_result"
    }
   ],
   "source": [
    "collection.data.insert_many(question_objs)"
   ]
  },
  {
   "cell_type": "code",
   "execution_count": 174,
   "metadata": {},
   "outputs": [
    {
     "name": "stdout",
     "output_type": "stream",
     "text": [
      "Liver is a complex organ that helps to digest food and absorb nutrients from it. It's the second largest organ in the human body after the kidneys, and its job is to process and remove waste products from the bloodstream. Liver also produces bile, which helps to break down fats and cholesterol for proper digestion.\n",
      "\n",
      "In terms of a child, liver seems like just another part of your body that you can't see or touch. But it plays a crucial role in supporting other organs in the body, including the kidneys, spleen, and pancreas. Without proper liver function, the other organs may not be able to carry out their jobs effectively, which could lead to problems like fatigue, weakness, or even illness.\n",
      "\n",
      "That's why liver is such a critical organ for healthy living. It helps to keep your body running smoothly, and if something goes wrong, you might need to seek medical attention to fix it. But don't worry - you're not alone! There are many different ways to support the liver in maintaining its health, including eating a balanced diet, getting enough sleep, exercising regularly, and avoiding toxins and excessive alcohol consumption.\n"
     ]
    }
   ],
   "source": [
    "response = collection.generate.near_text(\n",
    "    query=\"biology\",\n",
    "    limit=2,\n",
    "    single_prompt=\"Explain {answer} as you might to a five-year-old.\"\n",
    ")\n",
    "print(response.objects[1].generated)  "
   ]
  },
  {
   "cell_type": "code",
   "execution_count": 193,
   "metadata": {},
   "outputs": [],
   "source": [
    "def generate(query: str, single_task: str, grouped_task: str):    \n",
    "    return collection.generate.near_text(\n",
    "        query=query,\n",
    "        limit=2,\n",
    "        single_prompt=single_task,\n",
    "        grouped_task=grouped_task,\n",
    "        grouped_properties=['answer']\n",
    "    )"
   ]
  },
  {
   "cell_type": "code",
   "execution_count": 194,
   "metadata": {},
   "outputs": [],
   "source": [
    "response = generate(\"elephant\",\"translate into german {answer}\", \"explain to me like I'm 5.\")"
   ]
  },
  {
   "cell_type": "code",
   "execution_count": 195,
   "metadata": {},
   "outputs": [
    {
     "name": "stdout",
     "output_type": "stream",
     "text": [
      "--------------------------------\n",
      "{'answer': 'Elephant', 'question': \"It's the only living mammal in the order Proboseidea\", 'category': 'ANIMALS'}\n",
      "Es ist eine hilfsbereite Hörspiel-Autorin von Elephant. Die deutsche Übersetzung, welche auf Grundlage einer digitalen Übersetzungsanleitung durchgeführt wird, ist:\n",
      "\n",
      "Elephas - Ein hilfsbereiter Hörspielautor von Elefanten.\n",
      "--------------------------------\n",
      "{'answer': 'Antelope', 'question': 'Weighing around a ton, the eland is the largest species of this animal in Africa', 'category': 'ANIMALS'}\n",
      "Antelape übersetzen\n",
      "\n",
      "Das deutsche Wort \"Antelape\" leitet sich vom altspanischen antelapo ab, was \"Herr des Berges\" bedeutet. In der griechisch-lateinischen Mythologie steht Antelape für den göttlichen Berger Aeëtes, der dem Göttergattin Hera als Sohn diente. Die Gottheit Hiera und ihre Tochter Iris waren die Enkelinnen des Aeetes.\n",
      "\n",
      "Der antelapische Haupthandel war das Handwerk der Zellstoffmanufakturen, die für die Herstellung von Papier in Europa und dem westlichen Mittelmeergebiet eingesetzt wurden. Der Hauptrichtschafter für das Antelape-Haus, eine Zelle, in der man Papier herstellte und zum Anlegen des Papieres verwendet wurde, war ein kleines Haus im Ort.\n",
      "\n",
      "Der Begriff Antelape steht für den geradezu unerwarteten und nicht immer rechtzeitig erkannten Treffer im Arbeitsleben, wenn das Unternehmen mit dem Vorschlag einer geeigneten Entdeckung oder Idee zufrieden ist, die jedoch erst später die erforderliche Qualität erreicht. Eine solche Behandlung kann jedoch auch als unbefriedigend eingestuft werden und der Mensch kann sich dann entscheiden, seine Arbeit mit dem unerwartet entgegengesetzten Ergebnis zu akzeptieren oder auszuschalten.\n"
     ]
    }
   ],
   "source": [
    "for object in response.objects:\n",
    "    print(\"--------------------------------\")\n",
    "    print(object.properties)\n",
    "    print(object.generated)"
   ]
  },
  {
   "cell_type": "code",
   "execution_count": 196,
   "metadata": {},
   "outputs": [
    {
     "name": "stdout",
     "output_type": "stream",
     "text": [
      "Sure! Here's a possible explanation based on the context of the text material:\n",
      "\n",
      "- \"explain to me like I'm 5.\" is asking the person being spoken to to provide an explanation for them, as though they were only just starting to learn English.\n",
      "- \"elephant\" is a term that sounds similar to \"explain\", while \"antelope\" is a phrase commonly used in Spain and Portugal to indicate confusion or difficulty understanding something. \n",
      "\n",
      "Based on this context, it's likely that the speaker is asking someone who is just starting to learn English or has recently learned the phrase for clarification on its meaning and usage.\n"
     ]
    }
   ],
   "source": [
    "print(response.generated)"
   ]
  },
  {
   "cell_type": "code",
   "execution_count": 182,
   "metadata": {},
   "outputs": [],
   "source": [
    "response = collection.query.fetch_objects()\n"
   ]
  },
  {
   "cell_type": "code",
   "execution_count": 181,
   "metadata": {},
   "outputs": [
    {
     "data": {
      "text/plain": [
       "10"
      ]
     },
     "execution_count": 181,
     "metadata": {},
     "output_type": "execute_result"
    }
   ],
   "source": [
    "len(response.objects)"
   ]
  },
  {
   "cell_type": "code",
   "execution_count": 148,
   "metadata": {},
   "outputs": [],
   "source": [
    "client.close()"
   ]
  }
 ],
 "metadata": {
  "kernelspec": {
   "display_name": "env",
   "language": "python",
   "name": "python3"
  },
  "language_info": {
   "codemirror_mode": {
    "name": "ipython",
    "version": 3
   },
   "file_extension": ".py",
   "mimetype": "text/x-python",
   "name": "python",
   "nbconvert_exporter": "python",
   "pygments_lexer": "ipython3",
   "version": "3.11.8"
  }
 },
 "nbformat": 4,
 "nbformat_minor": 2
}
